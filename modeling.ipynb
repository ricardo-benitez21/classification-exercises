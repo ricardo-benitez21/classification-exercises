{
 "cells": [
  {
   "cell_type": "markdown",
   "id": "748690a5-a185-4852-b6a9-e68e22d3dee5",
   "metadata": {},
   "source": [
    "Using the Titanic dataset\n",
    "\n",
    "    Use the function defined in acquire.py to load the Titanic data.\n",
    "\n",
    "    Use the function defined in prepare.py to prepare the titanic data.\n",
    "\n",
    "    Encode the categorical columns on train dataset. Create dummy variables of the categorical columns and concatenate them onto the dataframe. Remove the columns they are replacing. Repeat on validate and test.\n",
    "\n",
    "    Create a function named preprocess_titanic that accepts the train, validate, and test titanic data, and returns the dataframes ready for modeling."
   ]
  },
  {
   "cell_type": "markdown",
   "id": "b6c51217-7a80-4708-a547-0dd16b93953e",
   "metadata": {},
   "source": [
    "Using the Telco dataset\n",
    "\n",
    "    Use the function defined in acquire.py to load the Telco data.\n",
    "\n",
    "    Use the function defined in prepare.py to prepare the Telco data.\n",
    "\n",
    "    Encode the categorical columns on train.\n",
    "        Encode at least one column using .replace\n",
    "        Encode at least one column using .map\n",
    "        Encode the rest of the columns by creating dummy variables and concatenating them onto the dataframe.\n",
    "\n",
    "    Repeat the same steps on validate and test.\n",
    "\n",
    "    Create a function named prep_telco that accepts the train, validate, and test telco data, and returns the dataframes ready for modeling."
   ]
  },
  {
   "cell_type": "code",
   "execution_count": 1,
   "id": "28ea2b00-255d-482e-a5ec-636d1aa758fd",
   "metadata": {
    "tags": []
   },
   "outputs": [],
   "source": [
    "# step 1 for  both data sets:\n",
    "# use acquire and prep that we already had developed"
   ]
  },
  {
   "cell_type": "code",
   "execution_count": 2,
   "id": "62f7b2ec-dcd4-4a43-ae43-c368699e5db3",
   "metadata": {
    "tags": []
   },
   "outputs": [],
   "source": [
    "# imports:\n",
    "import numpy as np\n",
    "import pandas as pd\n",
    "# custom modules:\n",
    "import acquire as a\n",
    "import prepare as p"
   ]
  },
  {
   "cell_type": "code",
   "execution_count": 3,
   "id": "e40486c8-78d4-40b7-a5a4-f05d678fc31c",
   "metadata": {
    "tags": []
   },
   "outputs": [],
   "source": [
    "# p.splitting_data?"
   ]
  },
  {
   "cell_type": "code",
   "execution_count": 4,
   "id": "5fdfed69-bf8b-4c53-8bdd-803bd766034f",
   "metadata": {
    "tags": []
   },
   "outputs": [],
   "source": [
    "# p.splitting_data(\n",
    "#     p.clean_titanic(a.get_titanic_data()),\n",
    "#     'survived')"
   ]
  },
  {
   "cell_type": "code",
   "execution_count": 5,
   "id": "e0fdfdad-3f58-46d0-a7f2-4bb5df7cba74",
   "metadata": {
    "tags": []
   },
   "outputs": [
    {
     "name": "stdout",
     "output_type": "stream",
     "text": [
      "this file exists, reading csv\n"
     ]
    }
   ],
   "source": [
    "# grab, prepare, and split our data sets\n",
    "titanic_train, \\\n",
    "titanic_val, \\\n",
    "titanic_test = p.splitting_data(\n",
    "    p.clean_titanic(a.get_titanic_data()),\n",
    "    'survived')"
   ]
  },
  {
   "cell_type": "code",
   "execution_count": 6,
   "id": "26413d66-dfd1-4e49-9d18-f2341d0b4b21",
   "metadata": {
    "tags": []
   },
   "outputs": [
    {
     "name": "stdout",
     "output_type": "stream",
     "text": [
      "this file exists, reading csv\n"
     ]
    }
   ],
   "source": [
    "# do the same thing for telco\n",
    "telco_train, \\\n",
    "telco_val, \\\n",
    "telco_test = p.splitting_data(\n",
    "    p.prep_telco(a.get_telco_data()),\n",
    "    'churn')"
   ]
  },
  {
   "cell_type": "code",
   "execution_count": 7,
   "id": "4a8bba01-6d19-4985-95de-8e4973c579c3",
   "metadata": {
    "tags": []
   },
   "outputs": [
    {
     "data": {
      "text/plain": [
       "((4225, 21), (1409, 21), (1409, 21))"
      ]
     },
     "execution_count": 7,
     "metadata": {},
     "output_type": "execute_result"
    }
   ],
   "source": [
    "telco_train.shape, telco_val.shape, telco_test.shape"
   ]
  },
  {
   "cell_type": "code",
   "execution_count": 8,
   "id": "2eba3a1e-eb97-49f6-8e48-50895f7d4542",
   "metadata": {
    "tags": []
   },
   "outputs": [
    {
     "data": {
      "text/plain": [
       "((534, 9), (178, 9), (179, 9))"
      ]
     },
     "execution_count": 8,
     "metadata": {},
     "output_type": "execute_result"
    }
   ],
   "source": [
    "titanic_train.shape, titanic_val.shape, titanic_test.shape"
   ]
  },
  {
   "cell_type": "code",
   "execution_count": 9,
   "id": "f15152c4-7aba-435e-b7b8-01a19a0e4464",
   "metadata": {
    "tags": []
   },
   "outputs": [],
   "source": [
    "# titanic preprocessing:\n",
    "# we saw previously that the things that we need to encode are:\n",
    "# sex (nominal, binary)\n",
    "# and embark_town (nominal, multicategorical/nonbinary)"
   ]
  },
  {
   "cell_type": "code",
   "execution_count": 10,
   "id": "cc658209-987b-4798-9657-a016639befe0",
   "metadata": {
    "tags": []
   },
   "outputs": [],
   "source": [
    "# class vs pclass"
   ]
  },
  {
   "cell_type": "code",
   "execution_count": 11,
   "id": "6a0a58d9-d0f9-4b3c-baec-68884dba567c",
   "metadata": {
    "tags": []
   },
   "outputs": [],
   "source": [
    "# get the encoded versions of sex and embark_town:"
   ]
  },
  {
   "cell_type": "code",
   "execution_count": 12,
   "id": "fdebe099-ff75-4f65-8373-a5e0a6a2c986",
   "metadata": {
    "tags": []
   },
   "outputs": [
    {
     "data": {
      "text/plain": [
       "776    3\n",
       "829    1\n",
       "215    1\n",
       "258    1\n",
       "129    3\n",
       "      ..\n",
       "125    3\n",
       "360    3\n",
       "55     1\n",
       "298    1\n",
       "768    3\n",
       "Name: pclass, Length: 534, dtype: int64"
      ]
     },
     "execution_count": 12,
     "metadata": {},
     "output_type": "execute_result"
    }
   ],
   "source": [
    "titanic_train.pclass.astype(int)"
   ]
  },
  {
   "cell_type": "code",
   "execution_count": 13,
   "id": "05019f95-68ff-4838-9992-3557432dc941",
   "metadata": {
    "tags": []
   },
   "outputs": [
    {
     "name": "stdout",
     "output_type": "stream",
     "text": [
      "<class 'pandas.core.frame.DataFrame'>\n",
      "Index: 534 entries, 776 to 768\n",
      "Data columns (total 9 columns):\n",
      " #   Column        Non-Null Count  Dtype  \n",
      "---  ------        --------------  -----  \n",
      " 0   passenger_id  534 non-null    int64  \n",
      " 1   survived      534 non-null    int64  \n",
      " 2   pclass        534 non-null    object \n",
      " 3   sex           534 non-null    object \n",
      " 4   sibsp         534 non-null    int64  \n",
      " 5   parch         534 non-null    int64  \n",
      " 6   fare          534 non-null    float64\n",
      " 7   embark_town   534 non-null    object \n",
      " 8   alone         534 non-null    int64  \n",
      "dtypes: float64(1), int64(5), object(3)\n",
      "memory usage: 41.7+ KB\n"
     ]
    }
   ],
   "source": [
    "titanic_train.info()"
   ]
  },
  {
   "cell_type": "code",
   "execution_count": 14,
   "id": "448012fc-8d5a-4ded-9ebd-8485f330663d",
   "metadata": {
    "tags": []
   },
   "outputs": [],
   "source": [
    "# tidy up the pclass and drop passenger_id:\n",
    "titanic_train.drop(columns='passenger_id')\n",
    "titanic_train['pclass'] = titanic_train['pclass'].astype(int)"
   ]
  },
  {
   "cell_type": "code",
   "execution_count": 15,
   "id": "197e3b88-c08f-4a2e-af97-83c3b9e638a1",
   "metadata": {
    "tags": []
   },
   "outputs": [],
   "source": [
    "# encoding sex and embark_town, \n",
    "# the only object types we have left:"
   ]
  },
  {
   "cell_type": "code",
   "execution_count": 16,
   "id": "a0f759f3-45e3-407f-baac-5f235b297d91",
   "metadata": {
    "tags": []
   },
   "outputs": [],
   "source": [
    "# lets assign the output of pd.get_dummies into a separate df:\n",
    "titanic_train_encoded_cats = pd.get_dummies(titanic_train[['embark_town', 'sex']],\n",
    "              drop_first=True).astype(int)"
   ]
  },
  {
   "cell_type": "code",
   "execution_count": 17,
   "id": "2653d0bf-1a96-40f4-b880-f3df83775b46",
   "metadata": {
    "tags": []
   },
   "outputs": [],
   "source": [
    "# glue that back into my original df:\n",
    "titanic_preprocessed = pd.concat(\n",
    "    [titanic_train,\n",
    "    titanic_train_encoded_cats],\n",
    "    axis=1).drop(columns=['sex', 'embark_town'])"
   ]
  },
  {
   "cell_type": "code",
   "execution_count": 18,
   "id": "87971c31-76b5-4dd4-8369-f7a2acfeb8f5",
   "metadata": {
    "tags": []
   },
   "outputs": [
    {
     "data": {
      "text/html": [
       "<div>\n",
       "<style scoped>\n",
       "    .dataframe tbody tr th:only-of-type {\n",
       "        vertical-align: middle;\n",
       "    }\n",
       "\n",
       "    .dataframe tbody tr th {\n",
       "        vertical-align: top;\n",
       "    }\n",
       "\n",
       "    .dataframe thead th {\n",
       "        text-align: right;\n",
       "    }\n",
       "</style>\n",
       "<table border=\"1\" class=\"dataframe\">\n",
       "  <thead>\n",
       "    <tr style=\"text-align: right;\">\n",
       "      <th></th>\n",
       "      <th>passenger_id</th>\n",
       "      <th>survived</th>\n",
       "      <th>pclass</th>\n",
       "      <th>sibsp</th>\n",
       "      <th>parch</th>\n",
       "      <th>fare</th>\n",
       "      <th>alone</th>\n",
       "      <th>embark_town_Queenstown</th>\n",
       "      <th>embark_town_Southampton</th>\n",
       "      <th>sex_male</th>\n",
       "    </tr>\n",
       "  </thead>\n",
       "  <tbody>\n",
       "    <tr>\n",
       "      <th>776</th>\n",
       "      <td>776</td>\n",
       "      <td>0</td>\n",
       "      <td>3</td>\n",
       "      <td>0</td>\n",
       "      <td>0</td>\n",
       "      <td>7.7500</td>\n",
       "      <td>1</td>\n",
       "      <td>1</td>\n",
       "      <td>0</td>\n",
       "      <td>1</td>\n",
       "    </tr>\n",
       "    <tr>\n",
       "      <th>829</th>\n",
       "      <td>829</td>\n",
       "      <td>1</td>\n",
       "      <td>1</td>\n",
       "      <td>0</td>\n",
       "      <td>0</td>\n",
       "      <td>80.0000</td>\n",
       "      <td>1</td>\n",
       "      <td>0</td>\n",
       "      <td>1</td>\n",
       "      <td>0</td>\n",
       "    </tr>\n",
       "    <tr>\n",
       "      <th>215</th>\n",
       "      <td>215</td>\n",
       "      <td>1</td>\n",
       "      <td>1</td>\n",
       "      <td>1</td>\n",
       "      <td>0</td>\n",
       "      <td>113.2750</td>\n",
       "      <td>0</td>\n",
       "      <td>0</td>\n",
       "      <td>0</td>\n",
       "      <td>0</td>\n",
       "    </tr>\n",
       "    <tr>\n",
       "      <th>258</th>\n",
       "      <td>258</td>\n",
       "      <td>1</td>\n",
       "      <td>1</td>\n",
       "      <td>0</td>\n",
       "      <td>0</td>\n",
       "      <td>512.3292</td>\n",
       "      <td>1</td>\n",
       "      <td>0</td>\n",
       "      <td>0</td>\n",
       "      <td>0</td>\n",
       "    </tr>\n",
       "    <tr>\n",
       "      <th>129</th>\n",
       "      <td>129</td>\n",
       "      <td>0</td>\n",
       "      <td>3</td>\n",
       "      <td>0</td>\n",
       "      <td>0</td>\n",
       "      <td>6.9750</td>\n",
       "      <td>1</td>\n",
       "      <td>0</td>\n",
       "      <td>1</td>\n",
       "      <td>1</td>\n",
       "    </tr>\n",
       "  </tbody>\n",
       "</table>\n",
       "</div>"
      ],
      "text/plain": [
       "     passenger_id  survived  pclass  sibsp  parch      fare  alone  \\\n",
       "776           776         0       3      0      0    7.7500      1   \n",
       "829           829         1       1      0      0   80.0000      1   \n",
       "215           215         1       1      1      0  113.2750      0   \n",
       "258           258         1       1      0      0  512.3292      1   \n",
       "129           129         0       3      0      0    6.9750      1   \n",
       "\n",
       "     embark_town_Queenstown  embark_town_Southampton  sex_male  \n",
       "776                       1                        0         1  \n",
       "829                       0                        1         0  \n",
       "215                       0                        0         0  \n",
       "258                       0                        0         0  \n",
       "129                       0                        1         1  "
      ]
     },
     "execution_count": 18,
     "metadata": {},
     "output_type": "execute_result"
    }
   ],
   "source": [
    "titanic_preprocessed.head()"
   ]
  },
  {
   "cell_type": "code",
   "execution_count": 19,
   "id": "13b76af3-0657-431b-b546-6b99eb3dad7c",
   "metadata": {
    "tags": []
   },
   "outputs": [],
   "source": [
    "def preprocess_titanic(train_df, val_df, test_df):\n",
    "    '''\n",
    "    preprocess_titanic will take in three pandas dataframes\n",
    "    of our titanic data, expected as cleaned versions of this \n",
    "    titanic data set (see documentation on acquire.py and prepare.py)\n",
    "    \n",
    "    output:\n",
    "    encoded, ML-ready versions of our clean data, with \n",
    "    columns sex and embark_town encoded in the one-hot fashion\n",
    "    return: (pd.DataFrame, pd.DataFrame, pd.DataFrame)\n",
    "    '''\n",
    "    # with a looping structure:\n",
    "    # for df in [train_df, val_df, test_df]:\n",
    "    #     df.drop(blah blah blah)\n",
    "    #     df['pclass'] = df['pclass'].astype(int)\n",
    "    train_df = train_df.drop(columns='passenger_id')\n",
    "    train_df['pclass'] = train_df['pclass'].astype(int)\n",
    "    val_df = val_df.drop(columns='passenger_id')\n",
    "    val_df['pclass'] = val_df['pclass'].astype(int)\n",
    "    test_df = test_df.drop(columns='passenger_id')\n",
    "    test_df['pclass'] = test_df['pclass'].astype(int)\n",
    "    encoding_var = ['sex', 'embark_town']\n",
    "    encoded_dfs = []\n",
    "    for df in [train_df, val_df, test_df]:\n",
    "        df_encoded_cats = pd.get_dummies(\n",
    "            df[['embark_town', 'sex']],\n",
    "              drop_first=True).astype(int)\n",
    "        encoded_dfs.append(pd.concat(\n",
    "            [df,\n",
    "            df_encoded_cats],\n",
    "            axis=1).drop(columns=['sex', 'embark_town']))\n",
    "    return encoded_dfs\n",
    "    "
   ]
  },
  {
   "cell_type": "code",
   "execution_count": 20,
   "id": "413f010c-8cd0-45d3-98fc-f095f9e5e2b1",
   "metadata": {
    "tags": []
   },
   "outputs": [],
   "source": [
    "ttrain_encoded, tval_encoded, ttest_encoded = preprocess_titanic(\n",
    "    titanic_train, \n",
    "    titanic_val, \n",
    "    titanic_test)"
   ]
  },
  {
   "cell_type": "code",
   "execution_count": 21,
   "id": "d754728e-dd38-4841-a933-f2051c102f38",
   "metadata": {
    "tags": []
   },
   "outputs": [
    {
     "data": {
      "text/html": [
       "<div>\n",
       "<style scoped>\n",
       "    .dataframe tbody tr th:only-of-type {\n",
       "        vertical-align: middle;\n",
       "    }\n",
       "\n",
       "    .dataframe tbody tr th {\n",
       "        vertical-align: top;\n",
       "    }\n",
       "\n",
       "    .dataframe thead th {\n",
       "        text-align: right;\n",
       "    }\n",
       "</style>\n",
       "<table border=\"1\" class=\"dataframe\">\n",
       "  <thead>\n",
       "    <tr style=\"text-align: right;\">\n",
       "      <th></th>\n",
       "      <th>survived</th>\n",
       "      <th>pclass</th>\n",
       "      <th>sibsp</th>\n",
       "      <th>parch</th>\n",
       "      <th>fare</th>\n",
       "      <th>alone</th>\n",
       "      <th>embark_town_Queenstown</th>\n",
       "      <th>embark_town_Southampton</th>\n",
       "      <th>sex_male</th>\n",
       "    </tr>\n",
       "  </thead>\n",
       "  <tbody>\n",
       "    <tr>\n",
       "      <th>776</th>\n",
       "      <td>0</td>\n",
       "      <td>3</td>\n",
       "      <td>0</td>\n",
       "      <td>0</td>\n",
       "      <td>7.7500</td>\n",
       "      <td>1</td>\n",
       "      <td>1</td>\n",
       "      <td>0</td>\n",
       "      <td>1</td>\n",
       "    </tr>\n",
       "    <tr>\n",
       "      <th>829</th>\n",
       "      <td>1</td>\n",
       "      <td>1</td>\n",
       "      <td>0</td>\n",
       "      <td>0</td>\n",
       "      <td>80.0000</td>\n",
       "      <td>1</td>\n",
       "      <td>0</td>\n",
       "      <td>1</td>\n",
       "      <td>0</td>\n",
       "    </tr>\n",
       "    <tr>\n",
       "      <th>215</th>\n",
       "      <td>1</td>\n",
       "      <td>1</td>\n",
       "      <td>1</td>\n",
       "      <td>0</td>\n",
       "      <td>113.2750</td>\n",
       "      <td>0</td>\n",
       "      <td>0</td>\n",
       "      <td>0</td>\n",
       "      <td>0</td>\n",
       "    </tr>\n",
       "    <tr>\n",
       "      <th>258</th>\n",
       "      <td>1</td>\n",
       "      <td>1</td>\n",
       "      <td>0</td>\n",
       "      <td>0</td>\n",
       "      <td>512.3292</td>\n",
       "      <td>1</td>\n",
       "      <td>0</td>\n",
       "      <td>0</td>\n",
       "      <td>0</td>\n",
       "    </tr>\n",
       "    <tr>\n",
       "      <th>129</th>\n",
       "      <td>0</td>\n",
       "      <td>3</td>\n",
       "      <td>0</td>\n",
       "      <td>0</td>\n",
       "      <td>6.9750</td>\n",
       "      <td>1</td>\n",
       "      <td>0</td>\n",
       "      <td>1</td>\n",
       "      <td>1</td>\n",
       "    </tr>\n",
       "  </tbody>\n",
       "</table>\n",
       "</div>"
      ],
      "text/plain": [
       "     survived  pclass  sibsp  parch      fare  alone  embark_town_Queenstown  \\\n",
       "776         0       3      0      0    7.7500      1                       1   \n",
       "829         1       1      0      0   80.0000      1                       0   \n",
       "215         1       1      1      0  113.2750      0                       0   \n",
       "258         1       1      0      0  512.3292      1                       0   \n",
       "129         0       3      0      0    6.9750      1                       0   \n",
       "\n",
       "     embark_town_Southampton  sex_male  \n",
       "776                        0         1  \n",
       "829                        1         0  \n",
       "215                        0         0  \n",
       "258                        0         0  \n",
       "129                        1         1  "
      ]
     },
     "execution_count": 21,
     "metadata": {},
     "output_type": "execute_result"
    }
   ],
   "source": [
    "ttrain_encoded.head()"
   ]
  },
  {
   "cell_type": "code",
   "execution_count": 22,
   "id": "23a20a85-6ad8-42ae-845c-9be7bb1818e7",
   "metadata": {
    "tags": []
   },
   "outputs": [],
   "source": [
    "# grabbing info:\n",
    "# for exploration:\n",
    "#  splitting_data(clean_titanic(acquire_titanic()))\n",
    "# for modeling:\n",
    "#  preprocess_titanic(splitting_data(clean_titanic(acquire_titanic())))"
   ]
  },
  {
   "cell_type": "markdown",
   "id": "593f0690-ad82-4345-84c0-81c4467e5d99",
   "metadata": {},
   "source": [
    "> for telco df:"
   ]
  },
  {
   "cell_type": "code",
   "execution_count": 23,
   "id": "d0c219ae-8c86-490f-a0cb-d687d8e72836",
   "metadata": {
    "tags": []
   },
   "outputs": [
    {
     "name": "stdout",
     "output_type": "stream",
     "text": [
      "<class 'pandas.core.frame.DataFrame'>\n",
      "Index: 4225 entries, 2865 to 5354\n",
      "Data columns (total 21 columns):\n",
      " #   Column                 Non-Null Count  Dtype  \n",
      "---  ------                 --------------  -----  \n",
      " 0   customer_id            4225 non-null   object \n",
      " 1   gender                 4225 non-null   object \n",
      " 2   senior_citizen         4225 non-null   int64  \n",
      " 3   partner                4225 non-null   object \n",
      " 4   dependents             4225 non-null   object \n",
      " 5   tenure                 4225 non-null   int64  \n",
      " 6   phone_service          4225 non-null   object \n",
      " 7   multiple_lines         4225 non-null   object \n",
      " 8   online_security        4225 non-null   object \n",
      " 9   online_backup          4225 non-null   object \n",
      " 10  device_protection      4225 non-null   object \n",
      " 11  tech_support           4225 non-null   object \n",
      " 12  streaming_tv           4225 non-null   object \n",
      " 13  streaming_movies       4225 non-null   object \n",
      " 14  paperless_billing      4225 non-null   object \n",
      " 15  monthly_charges        4225 non-null   float64\n",
      " 16  total_charges          4225 non-null   object \n",
      " 17  churn                  4225 non-null   object \n",
      " 18  contract_type          4225 non-null   object \n",
      " 19  internet_service_type  3307 non-null   object \n",
      " 20  payment_type           4225 non-null   object \n",
      "dtypes: float64(1), int64(2), object(18)\n",
      "memory usage: 726.2+ KB\n"
     ]
    }
   ],
   "source": [
    "telco_train.info()"
   ]
  },
  {
   "cell_type": "code",
   "execution_count": 24,
   "id": "353876e8-7dd8-4669-bb16-5d482668782d",
   "metadata": {
    "tags": []
   },
   "outputs": [
    {
     "data": {
      "text/html": [
       "<div>\n",
       "<style scoped>\n",
       "    .dataframe tbody tr th:only-of-type {\n",
       "        vertical-align: middle;\n",
       "    }\n",
       "\n",
       "    .dataframe tbody tr th {\n",
       "        vertical-align: top;\n",
       "    }\n",
       "\n",
       "    .dataframe thead th {\n",
       "        text-align: right;\n",
       "    }\n",
       "</style>\n",
       "<table border=\"1\" class=\"dataframe\">\n",
       "  <thead>\n",
       "    <tr style=\"text-align: right;\">\n",
       "      <th></th>\n",
       "      <th>customer_id</th>\n",
       "      <th>gender</th>\n",
       "      <th>partner</th>\n",
       "      <th>dependents</th>\n",
       "      <th>phone_service</th>\n",
       "      <th>multiple_lines</th>\n",
       "      <th>online_security</th>\n",
       "      <th>online_backup</th>\n",
       "      <th>device_protection</th>\n",
       "      <th>tech_support</th>\n",
       "      <th>streaming_tv</th>\n",
       "      <th>streaming_movies</th>\n",
       "      <th>paperless_billing</th>\n",
       "      <th>total_charges</th>\n",
       "      <th>churn</th>\n",
       "      <th>contract_type</th>\n",
       "      <th>internet_service_type</th>\n",
       "      <th>payment_type</th>\n",
       "    </tr>\n",
       "  </thead>\n",
       "  <tbody>\n",
       "    <tr>\n",
       "      <th>2865</th>\n",
       "      <td>4083-BFNYK</td>\n",
       "      <td>Female</td>\n",
       "      <td>Yes</td>\n",
       "      <td>No</td>\n",
       "      <td>Yes</td>\n",
       "      <td>Yes</td>\n",
       "      <td>Yes</td>\n",
       "      <td>Yes</td>\n",
       "      <td>No</td>\n",
       "      <td>No</td>\n",
       "      <td>No</td>\n",
       "      <td>Yes</td>\n",
       "      <td>No</td>\n",
       "      <td>3591.25</td>\n",
       "      <td>No</td>\n",
       "      <td>One year</td>\n",
       "      <td>Fiber optic</td>\n",
       "      <td>Credit card (automatic)</td>\n",
       "    </tr>\n",
       "    <tr>\n",
       "      <th>4107</th>\n",
       "      <td>5804-LEPIM</td>\n",
       "      <td>Female</td>\n",
       "      <td>No</td>\n",
       "      <td>No</td>\n",
       "      <td>Yes</td>\n",
       "      <td>No</td>\n",
       "      <td>No</td>\n",
       "      <td>No</td>\n",
       "      <td>No</td>\n",
       "      <td>No</td>\n",
       "      <td>No</td>\n",
       "      <td>No</td>\n",
       "      <td>Yes</td>\n",
       "      <td>139.05</td>\n",
       "      <td>Yes</td>\n",
       "      <td>Month-to-month</td>\n",
       "      <td>Fiber optic</td>\n",
       "      <td>Electronic check</td>\n",
       "    </tr>\n",
       "    <tr>\n",
       "      <th>3453</th>\n",
       "      <td>4895-TMWIR</td>\n",
       "      <td>Male</td>\n",
       "      <td>Yes</td>\n",
       "      <td>No</td>\n",
       "      <td>Yes</td>\n",
       "      <td>No</td>\n",
       "      <td>No internet service</td>\n",
       "      <td>No internet service</td>\n",
       "      <td>No internet service</td>\n",
       "      <td>No internet service</td>\n",
       "      <td>No internet service</td>\n",
       "      <td>No internet service</td>\n",
       "      <td>No</td>\n",
       "      <td>214.75</td>\n",
       "      <td>Yes</td>\n",
       "      <td>Month-to-month</td>\n",
       "      <td>NaN</td>\n",
       "      <td>Mailed check</td>\n",
       "    </tr>\n",
       "    <tr>\n",
       "      <th>923</th>\n",
       "      <td>1342-JPNKI</td>\n",
       "      <td>Male</td>\n",
       "      <td>No</td>\n",
       "      <td>No</td>\n",
       "      <td>Yes</td>\n",
       "      <td>Yes</td>\n",
       "      <td>No</td>\n",
       "      <td>No</td>\n",
       "      <td>No</td>\n",
       "      <td>No</td>\n",
       "      <td>Yes</td>\n",
       "      <td>No</td>\n",
       "      <td>Yes</td>\n",
       "      <td>834.1</td>\n",
       "      <td>Yes</td>\n",
       "      <td>Month-to-month</td>\n",
       "      <td>Fiber optic</td>\n",
       "      <td>Bank transfer (automatic)</td>\n",
       "    </tr>\n",
       "    <tr>\n",
       "      <th>2370</th>\n",
       "      <td>3397-AVTKU</td>\n",
       "      <td>Male</td>\n",
       "      <td>No</td>\n",
       "      <td>No</td>\n",
       "      <td>Yes</td>\n",
       "      <td>No</td>\n",
       "      <td>No</td>\n",
       "      <td>Yes</td>\n",
       "      <td>No</td>\n",
       "      <td>No</td>\n",
       "      <td>No</td>\n",
       "      <td>Yes</td>\n",
       "      <td>Yes</td>\n",
       "      <td>2548.55</td>\n",
       "      <td>No</td>\n",
       "      <td>Two year</td>\n",
       "      <td>DSL</td>\n",
       "      <td>Electronic check</td>\n",
       "    </tr>\n",
       "    <tr>\n",
       "      <th>...</th>\n",
       "      <td>...</td>\n",
       "      <td>...</td>\n",
       "      <td>...</td>\n",
       "      <td>...</td>\n",
       "      <td>...</td>\n",
       "      <td>...</td>\n",
       "      <td>...</td>\n",
       "      <td>...</td>\n",
       "      <td>...</td>\n",
       "      <td>...</td>\n",
       "      <td>...</td>\n",
       "      <td>...</td>\n",
       "      <td>...</td>\n",
       "      <td>...</td>\n",
       "      <td>...</td>\n",
       "      <td>...</td>\n",
       "      <td>...</td>\n",
       "      <td>...</td>\n",
       "    </tr>\n",
       "    <tr>\n",
       "      <th>1286</th>\n",
       "      <td>1915-IOFGU</td>\n",
       "      <td>Female</td>\n",
       "      <td>No</td>\n",
       "      <td>No</td>\n",
       "      <td>Yes</td>\n",
       "      <td>No</td>\n",
       "      <td>No</td>\n",
       "      <td>No</td>\n",
       "      <td>No</td>\n",
       "      <td>No</td>\n",
       "      <td>No</td>\n",
       "      <td>No</td>\n",
       "      <td>No</td>\n",
       "      <td>70.5</td>\n",
       "      <td>Yes</td>\n",
       "      <td>Month-to-month</td>\n",
       "      <td>Fiber optic</td>\n",
       "      <td>Electronic check</td>\n",
       "    </tr>\n",
       "    <tr>\n",
       "      <th>4999</th>\n",
       "      <td>7025-WCBNE</td>\n",
       "      <td>Male</td>\n",
       "      <td>No</td>\n",
       "      <td>No</td>\n",
       "      <td>Yes</td>\n",
       "      <td>Yes</td>\n",
       "      <td>No</td>\n",
       "      <td>Yes</td>\n",
       "      <td>No</td>\n",
       "      <td>Yes</td>\n",
       "      <td>No</td>\n",
       "      <td>No</td>\n",
       "      <td>No</td>\n",
       "      <td>2754</td>\n",
       "      <td>No</td>\n",
       "      <td>Two year</td>\n",
       "      <td>DSL</td>\n",
       "      <td>Bank transfer (automatic)</td>\n",
       "    </tr>\n",
       "    <tr>\n",
       "      <th>6892</th>\n",
       "      <td>9788-HNGUT</td>\n",
       "      <td>Male</td>\n",
       "      <td>Yes</td>\n",
       "      <td>No</td>\n",
       "      <td>Yes</td>\n",
       "      <td>Yes</td>\n",
       "      <td>Yes</td>\n",
       "      <td>Yes</td>\n",
       "      <td>Yes</td>\n",
       "      <td>Yes</td>\n",
       "      <td>Yes</td>\n",
       "      <td>Yes</td>\n",
       "      <td>Yes</td>\n",
       "      <td>8594.4</td>\n",
       "      <td>No</td>\n",
       "      <td>Two year</td>\n",
       "      <td>Fiber optic</td>\n",
       "      <td>Credit card (automatic)</td>\n",
       "    </tr>\n",
       "    <tr>\n",
       "      <th>3718</th>\n",
       "      <td>5229-PRWKT</td>\n",
       "      <td>Male</td>\n",
       "      <td>No</td>\n",
       "      <td>No</td>\n",
       "      <td>Yes</td>\n",
       "      <td>Yes</td>\n",
       "      <td>No</td>\n",
       "      <td>No</td>\n",
       "      <td>No</td>\n",
       "      <td>No</td>\n",
       "      <td>No</td>\n",
       "      <td>Yes</td>\n",
       "      <td>Yes</td>\n",
       "      <td>649.65</td>\n",
       "      <td>Yes</td>\n",
       "      <td>Month-to-month</td>\n",
       "      <td>Fiber optic</td>\n",
       "      <td>Electronic check</td>\n",
       "    </tr>\n",
       "    <tr>\n",
       "      <th>5354</th>\n",
       "      <td>7562-UXTPG</td>\n",
       "      <td>Female</td>\n",
       "      <td>No</td>\n",
       "      <td>No</td>\n",
       "      <td>Yes</td>\n",
       "      <td>No</td>\n",
       "      <td>No</td>\n",
       "      <td>No</td>\n",
       "      <td>No</td>\n",
       "      <td>No</td>\n",
       "      <td>No</td>\n",
       "      <td>No</td>\n",
       "      <td>Yes</td>\n",
       "      <td>886.7</td>\n",
       "      <td>No</td>\n",
       "      <td>Month-to-month</td>\n",
       "      <td>Fiber optic</td>\n",
       "      <td>Mailed check</td>\n",
       "    </tr>\n",
       "  </tbody>\n",
       "</table>\n",
       "<p>4225 rows × 18 columns</p>\n",
       "</div>"
      ],
      "text/plain": [
       "     customer_id  gender partner dependents phone_service multiple_lines  \\\n",
       "2865  4083-BFNYK  Female     Yes         No           Yes            Yes   \n",
       "4107  5804-LEPIM  Female      No         No           Yes             No   \n",
       "3453  4895-TMWIR    Male     Yes         No           Yes             No   \n",
       "923   1342-JPNKI    Male      No         No           Yes            Yes   \n",
       "2370  3397-AVTKU    Male      No         No           Yes             No   \n",
       "...          ...     ...     ...        ...           ...            ...   \n",
       "1286  1915-IOFGU  Female      No         No           Yes             No   \n",
       "4999  7025-WCBNE    Male      No         No           Yes            Yes   \n",
       "6892  9788-HNGUT    Male     Yes         No           Yes            Yes   \n",
       "3718  5229-PRWKT    Male      No         No           Yes            Yes   \n",
       "5354  7562-UXTPG  Female      No         No           Yes             No   \n",
       "\n",
       "          online_security        online_backup    device_protection  \\\n",
       "2865                  Yes                  Yes                   No   \n",
       "4107                   No                   No                   No   \n",
       "3453  No internet service  No internet service  No internet service   \n",
       "923                    No                   No                   No   \n",
       "2370                   No                  Yes                   No   \n",
       "...                   ...                  ...                  ...   \n",
       "1286                   No                   No                   No   \n",
       "4999                   No                  Yes                   No   \n",
       "6892                  Yes                  Yes                  Yes   \n",
       "3718                   No                   No                   No   \n",
       "5354                   No                   No                   No   \n",
       "\n",
       "             tech_support         streaming_tv     streaming_movies  \\\n",
       "2865                   No                   No                  Yes   \n",
       "4107                   No                   No                   No   \n",
       "3453  No internet service  No internet service  No internet service   \n",
       "923                    No                  Yes                   No   \n",
       "2370                   No                   No                  Yes   \n",
       "...                   ...                  ...                  ...   \n",
       "1286                   No                   No                   No   \n",
       "4999                  Yes                   No                   No   \n",
       "6892                  Yes                  Yes                  Yes   \n",
       "3718                   No                   No                  Yes   \n",
       "5354                   No                   No                   No   \n",
       "\n",
       "     paperless_billing total_charges churn   contract_type  \\\n",
       "2865                No       3591.25    No        One year   \n",
       "4107               Yes        139.05   Yes  Month-to-month   \n",
       "3453                No        214.75   Yes  Month-to-month   \n",
       "923                Yes         834.1   Yes  Month-to-month   \n",
       "2370               Yes       2548.55    No        Two year   \n",
       "...                ...           ...   ...             ...   \n",
       "1286                No          70.5   Yes  Month-to-month   \n",
       "4999                No          2754    No        Two year   \n",
       "6892               Yes        8594.4    No        Two year   \n",
       "3718               Yes        649.65   Yes  Month-to-month   \n",
       "5354               Yes         886.7    No  Month-to-month   \n",
       "\n",
       "     internet_service_type               payment_type  \n",
       "2865           Fiber optic    Credit card (automatic)  \n",
       "4107           Fiber optic           Electronic check  \n",
       "3453                   NaN               Mailed check  \n",
       "923            Fiber optic  Bank transfer (automatic)  \n",
       "2370                   DSL           Electronic check  \n",
       "...                    ...                        ...  \n",
       "1286           Fiber optic           Electronic check  \n",
       "4999                   DSL  Bank transfer (automatic)  \n",
       "6892           Fiber optic    Credit card (automatic)  \n",
       "3718           Fiber optic           Electronic check  \n",
       "5354           Fiber optic               Mailed check  \n",
       "\n",
       "[4225 rows x 18 columns]"
      ]
     },
     "execution_count": 24,
     "metadata": {},
     "output_type": "execute_result"
    }
   ],
   "source": [
    "# select dtype:\n",
    "telco_train.select_dtypes('O')"
   ]
  },
  {
   "cell_type": "code",
   "execution_count": 25,
   "id": "7d5eb521-da0e-4823-ab67-6b7f570d0187",
   "metadata": {
    "tags": []
   },
   "outputs": [],
   "source": [
    "# checking fields for object type:\n",
    "# initialize some empty lists:\n",
    "cat_cols, num_cols = [], []\n",
    "for col in telco_train.columns:\n",
    "    if telco_train[col].dtype == 'O':\n",
    "        cat_cols.append(col)\n",
    "    else:\n",
    "        num_cols.append(col)"
   ]
  },
  {
   "cell_type": "code",
   "execution_count": 26,
   "id": "7d3b9877-8c19-4166-b2d2-aaea3c424b67",
   "metadata": {
    "tags": []
   },
   "outputs": [
    {
     "data": {
      "text/plain": [
       "['customer_id',\n",
       " 'gender',\n",
       " 'partner',\n",
       " 'dependents',\n",
       " 'phone_service',\n",
       " 'multiple_lines',\n",
       " 'online_security',\n",
       " 'online_backup',\n",
       " 'device_protection',\n",
       " 'tech_support',\n",
       " 'streaming_tv',\n",
       " 'streaming_movies',\n",
       " 'paperless_billing',\n",
       " 'total_charges',\n",
       " 'churn',\n",
       " 'contract_type',\n",
       " 'internet_service_type',\n",
       " 'payment_type']"
      ]
     },
     "execution_count": 26,
     "metadata": {},
     "output_type": "execute_result"
    }
   ],
   "source": [
    "cat_cols"
   ]
  },
  {
   "cell_type": "code",
   "execution_count": 27,
   "id": "d00395c9-417b-4051-8702-44e933cb49e8",
   "metadata": {
    "tags": []
   },
   "outputs": [],
   "source": [
    "cat_cols.remove('customer_id')"
   ]
  },
  {
   "cell_type": "code",
   "execution_count": 28,
   "id": "97d1eb57-c6a3-457a-bc55-a1d1ce6edc5a",
   "metadata": {
    "tags": []
   },
   "outputs": [
    {
     "data": {
      "text/plain": [
       "['gender',\n",
       " 'partner',\n",
       " 'dependents',\n",
       " 'phone_service',\n",
       " 'multiple_lines',\n",
       " 'online_security',\n",
       " 'online_backup',\n",
       " 'device_protection',\n",
       " 'tech_support',\n",
       " 'streaming_tv',\n",
       " 'streaming_movies',\n",
       " 'paperless_billing',\n",
       " 'total_charges',\n",
       " 'churn',\n",
       " 'contract_type',\n",
       " 'internet_service_type',\n",
       " 'payment_type']"
      ]
     },
     "execution_count": 28,
     "metadata": {},
     "output_type": "execute_result"
    }
   ],
   "source": [
    "cat_cols"
   ]
  },
  {
   "cell_type": "code",
   "execution_count": 29,
   "id": "6c8c230f-b03d-44a4-945a-b84702f8a7ad",
   "metadata": {
    "tags": []
   },
   "outputs": [],
   "source": [
    "# requests:\n",
    "# use map once,\n",
    "# use replace once\n",
    "# great for binary categories that are nominal: True/False switches"
   ]
  },
  {
   "cell_type": "code",
   "execution_count": 30,
   "id": "b95a26f9-5ccb-4f59-b2ee-2c3d2814d93a",
   "metadata": {
    "tags": []
   },
   "outputs": [],
   "source": [
    "# pd.Series.replace?"
   ]
  },
  {
   "cell_type": "code",
   "execution_count": 31,
   "id": "728f8b62-fa6d-40b0-9046-45b20777092f",
   "metadata": {
    "tags": []
   },
   "outputs": [],
   "source": [
    "telco_train.loc[:, 'is_female'] = telco_train['gender'].replace({'Female': 1, 'Male': 0})"
   ]
  },
  {
   "cell_type": "code",
   "execution_count": 32,
   "id": "e01ccf48-54f4-47ac-82be-b588dbb869c9",
   "metadata": {
    "tags": []
   },
   "outputs": [
    {
     "data": {
      "text/plain": [
       "array(['Yes', 'No'], dtype=object)"
      ]
     },
     "execution_count": 32,
     "metadata": {},
     "output_type": "execute_result"
    }
   ],
   "source": [
    "telco_train.partner.unique()"
   ]
  },
  {
   "cell_type": "code",
   "execution_count": 33,
   "id": "c8702375-9477-467d-82aa-1ee42772ca11",
   "metadata": {
    "tags": []
   },
   "outputs": [],
   "source": [
    "telco_train.loc[:, 'has_partner'] = telco_train['partner'].map({'Yes': 1, 'No': 0})"
   ]
  },
  {
   "cell_type": "code",
   "execution_count": 34,
   "id": "89cde8d4-435b-4161-93f7-2ba920615352",
   "metadata": {
    "tags": []
   },
   "outputs": [],
   "source": [
    "# telco_train = telco_train.set_index('customer_id')"
   ]
  },
  {
   "cell_type": "code",
   "execution_count": 35,
   "id": "4842901f-69cc-4c36-b56c-fea5a71c3b12",
   "metadata": {
    "tags": []
   },
   "outputs": [],
   "source": [
    "# debugging for the total_charges that turns out was not already\n",
    "# a number:"
   ]
  },
  {
   "cell_type": "code",
   "execution_count": 36,
   "id": "4994ee58-3435-4984-a6ca-db52bd808ee4",
   "metadata": {
    "tags": []
   },
   "outputs": [],
   "source": [
    "telco_train['total_charges'] = (telco_train.total_charges + '0').astype(float)"
   ]
  },
  {
   "cell_type": "code",
   "execution_count": 37,
   "id": "368f60a4-6b2e-408e-955f-9f133a02f280",
   "metadata": {
    "tags": []
   },
   "outputs": [],
   "source": [
    "def preprocess_telco(train_df, val_df, test_df):\n",
    "    '''\n",
    "    preprocess_telco will take in three pandas dataframes\n",
    "    of our telco data, expected as cleaned versions of this \n",
    "    telco data set (see documentation on acquire.py and prepare.py)\n",
    "    \n",
    "    output:\n",
    "    encoded, ML-ready versions of our clean data, with \n",
    "    columns sex and embark_town encoded in the one-hot fashion\n",
    "    return: (pd.DataFrame, pd.DataFrame, pd.DataFrame)\n",
    "    '''\n",
    "    # with a looping structure:\n",
    "    # go through the three dfs, set the index to customer id\n",
    "    for df in [train_df, val_df, test_df]:\n",
    "        df = df.set_index('customer_id')\n",
    "        df['total_charges'] = df['total_charges'].astype(float)\n",
    "    # initialize an empty list to see what needs to be encoded:\n",
    "    encoding_vars = []\n",
    "    # loop through the columns to fill encoded_vars with appropriate\n",
    "    # datatype field names\n",
    "    for col in train_df.columns:\n",
    "        if train_df[col].dtype == 'O':\n",
    "            encoding_vars.append(col)\n",
    "    encoding_vars.remove('customer_id')\n",
    "    # initialize an empty list to hold our encoded dataframes:\n",
    "    encoded_dfs = []\n",
    "    for df in [train_df, val_df, test_df]:\n",
    "        df_encoded_cats = pd.get_dummies(\n",
    "            df[encoding_vars],\n",
    "              drop_first=True).astype(int)\n",
    "        encoded_dfs.append(pd.concat(\n",
    "            [df,\n",
    "            df_encoded_cats],\n",
    "            axis=1).drop(columns=encoding_vars))\n",
    "    return encoded_dfs"
   ]
  },
  {
   "cell_type": "code",
   "execution_count": 38,
   "id": "9c39a826-793e-406c-937e-25bceea0f3b8",
   "metadata": {
    "tags": []
   },
   "outputs": [],
   "source": [
    "tlco_train_encoded, \\\n",
    "tlco_val_encoded, \\\n",
    "tlco_test_encoded = preprocess_telco(telco_train, telco_val, telco_test)"
   ]
  },
  {
   "cell_type": "code",
   "execution_count": 39,
   "id": "89d528ce-f30d-4640-a38d-ccce6cccdd45",
   "metadata": {
    "tags": []
   },
   "outputs": [
    {
     "name": "stdout",
     "output_type": "stream",
     "text": [
      "<class 'pandas.core.frame.DataFrame'>\n",
      "Index: 4225 entries, 2865 to 5354\n",
      "Data columns (total 33 columns):\n",
      " #   Column                                 Non-Null Count  Dtype  \n",
      "---  ------                                 --------------  -----  \n",
      " 0   customer_id                            4225 non-null   object \n",
      " 1   senior_citizen                         4225 non-null   int64  \n",
      " 2   tenure                                 4225 non-null   int64  \n",
      " 3   monthly_charges                        4225 non-null   float64\n",
      " 4   total_charges                          4225 non-null   float64\n",
      " 5   is_female                              4225 non-null   int64  \n",
      " 6   has_partner                            4225 non-null   int64  \n",
      " 7   gender_Male                            4225 non-null   int64  \n",
      " 8   partner_Yes                            4225 non-null   int64  \n",
      " 9   dependents_Yes                         4225 non-null   int64  \n",
      " 10  phone_service_Yes                      4225 non-null   int64  \n",
      " 11  multiple_lines_No phone service        4225 non-null   int64  \n",
      " 12  multiple_lines_Yes                     4225 non-null   int64  \n",
      " 13  online_security_No internet service    4225 non-null   int64  \n",
      " 14  online_security_Yes                    4225 non-null   int64  \n",
      " 15  online_backup_No internet service      4225 non-null   int64  \n",
      " 16  online_backup_Yes                      4225 non-null   int64  \n",
      " 17  device_protection_No internet service  4225 non-null   int64  \n",
      " 18  device_protection_Yes                  4225 non-null   int64  \n",
      " 19  tech_support_No internet service       4225 non-null   int64  \n",
      " 20  tech_support_Yes                       4225 non-null   int64  \n",
      " 21  streaming_tv_No internet service       4225 non-null   int64  \n",
      " 22  streaming_tv_Yes                       4225 non-null   int64  \n",
      " 23  streaming_movies_No internet service   4225 non-null   int64  \n",
      " 24  streaming_movies_Yes                   4225 non-null   int64  \n",
      " 25  paperless_billing_Yes                  4225 non-null   int64  \n",
      " 26  churn_Yes                              4225 non-null   int64  \n",
      " 27  contract_type_One year                 4225 non-null   int64  \n",
      " 28  contract_type_Two year                 4225 non-null   int64  \n",
      " 29  internet_service_type_Fiber optic      4225 non-null   int64  \n",
      " 30  payment_type_Credit card (automatic)   4225 non-null   int64  \n",
      " 31  payment_type_Electronic check          4225 non-null   int64  \n",
      " 32  payment_type_Mailed check              4225 non-null   int64  \n",
      "dtypes: float64(2), int64(30), object(1)\n",
      "memory usage: 1.1+ MB\n"
     ]
    }
   ],
   "source": [
    "tlco_train_encoded.info()"
   ]
  },
  {
   "cell_type": "code",
   "execution_count": 40,
   "id": "a5dc5e8d-63a8-45ef-b4dd-424875b103f6",
   "metadata": {
    "tags": []
   },
   "outputs": [
    {
     "data": {
      "text/html": [
       "<div>\n",
       "<style scoped>\n",
       "    .dataframe tbody tr th:only-of-type {\n",
       "        vertical-align: middle;\n",
       "    }\n",
       "\n",
       "    .dataframe tbody tr th {\n",
       "        vertical-align: top;\n",
       "    }\n",
       "\n",
       "    .dataframe thead th {\n",
       "        text-align: right;\n",
       "    }\n",
       "</style>\n",
       "<table border=\"1\" class=\"dataframe\">\n",
       "  <thead>\n",
       "    <tr style=\"text-align: right;\">\n",
       "      <th></th>\n",
       "      <th>2865</th>\n",
       "    </tr>\n",
       "  </thead>\n",
       "  <tbody>\n",
       "    <tr>\n",
       "      <th>customer_id</th>\n",
       "      <td>4083-BFNYK</td>\n",
       "    </tr>\n",
       "    <tr>\n",
       "      <th>senior_citizen</th>\n",
       "      <td>1</td>\n",
       "    </tr>\n",
       "    <tr>\n",
       "      <th>tenure</th>\n",
       "      <td>38</td>\n",
       "    </tr>\n",
       "    <tr>\n",
       "      <th>monthly_charges</th>\n",
       "      <td>95.0</td>\n",
       "    </tr>\n",
       "    <tr>\n",
       "      <th>total_charges</th>\n",
       "      <td>3591.25</td>\n",
       "    </tr>\n",
       "    <tr>\n",
       "      <th>is_female</th>\n",
       "      <td>1</td>\n",
       "    </tr>\n",
       "    <tr>\n",
       "      <th>has_partner</th>\n",
       "      <td>1</td>\n",
       "    </tr>\n",
       "    <tr>\n",
       "      <th>gender_Male</th>\n",
       "      <td>0</td>\n",
       "    </tr>\n",
       "    <tr>\n",
       "      <th>partner_Yes</th>\n",
       "      <td>1</td>\n",
       "    </tr>\n",
       "    <tr>\n",
       "      <th>dependents_Yes</th>\n",
       "      <td>0</td>\n",
       "    </tr>\n",
       "    <tr>\n",
       "      <th>phone_service_Yes</th>\n",
       "      <td>1</td>\n",
       "    </tr>\n",
       "    <tr>\n",
       "      <th>multiple_lines_No phone service</th>\n",
       "      <td>0</td>\n",
       "    </tr>\n",
       "    <tr>\n",
       "      <th>multiple_lines_Yes</th>\n",
       "      <td>1</td>\n",
       "    </tr>\n",
       "    <tr>\n",
       "      <th>online_security_No internet service</th>\n",
       "      <td>0</td>\n",
       "    </tr>\n",
       "    <tr>\n",
       "      <th>online_security_Yes</th>\n",
       "      <td>1</td>\n",
       "    </tr>\n",
       "    <tr>\n",
       "      <th>online_backup_No internet service</th>\n",
       "      <td>0</td>\n",
       "    </tr>\n",
       "    <tr>\n",
       "      <th>online_backup_Yes</th>\n",
       "      <td>1</td>\n",
       "    </tr>\n",
       "    <tr>\n",
       "      <th>device_protection_No internet service</th>\n",
       "      <td>0</td>\n",
       "    </tr>\n",
       "    <tr>\n",
       "      <th>device_protection_Yes</th>\n",
       "      <td>0</td>\n",
       "    </tr>\n",
       "    <tr>\n",
       "      <th>tech_support_No internet service</th>\n",
       "      <td>0</td>\n",
       "    </tr>\n",
       "    <tr>\n",
       "      <th>tech_support_Yes</th>\n",
       "      <td>0</td>\n",
       "    </tr>\n",
       "    <tr>\n",
       "      <th>streaming_tv_No internet service</th>\n",
       "      <td>0</td>\n",
       "    </tr>\n",
       "    <tr>\n",
       "      <th>streaming_tv_Yes</th>\n",
       "      <td>0</td>\n",
       "    </tr>\n",
       "    <tr>\n",
       "      <th>streaming_movies_No internet service</th>\n",
       "      <td>0</td>\n",
       "    </tr>\n",
       "    <tr>\n",
       "      <th>streaming_movies_Yes</th>\n",
       "      <td>1</td>\n",
       "    </tr>\n",
       "    <tr>\n",
       "      <th>paperless_billing_Yes</th>\n",
       "      <td>0</td>\n",
       "    </tr>\n",
       "    <tr>\n",
       "      <th>churn_Yes</th>\n",
       "      <td>0</td>\n",
       "    </tr>\n",
       "    <tr>\n",
       "      <th>contract_type_One year</th>\n",
       "      <td>1</td>\n",
       "    </tr>\n",
       "    <tr>\n",
       "      <th>contract_type_Two year</th>\n",
       "      <td>0</td>\n",
       "    </tr>\n",
       "    <tr>\n",
       "      <th>internet_service_type_Fiber optic</th>\n",
       "      <td>1</td>\n",
       "    </tr>\n",
       "    <tr>\n",
       "      <th>payment_type_Credit card (automatic)</th>\n",
       "      <td>1</td>\n",
       "    </tr>\n",
       "    <tr>\n",
       "      <th>payment_type_Electronic check</th>\n",
       "      <td>0</td>\n",
       "    </tr>\n",
       "    <tr>\n",
       "      <th>payment_type_Mailed check</th>\n",
       "      <td>0</td>\n",
       "    </tr>\n",
       "  </tbody>\n",
       "</table>\n",
       "</div>"
      ],
      "text/plain": [
       "                                             2865\n",
       "customer_id                            4083-BFNYK\n",
       "senior_citizen                                  1\n",
       "tenure                                         38\n",
       "monthly_charges                              95.0\n",
       "total_charges                             3591.25\n",
       "is_female                                       1\n",
       "has_partner                                     1\n",
       "gender_Male                                     0\n",
       "partner_Yes                                     1\n",
       "dependents_Yes                                  0\n",
       "phone_service_Yes                               1\n",
       "multiple_lines_No phone service                 0\n",
       "multiple_lines_Yes                              1\n",
       "online_security_No internet service             0\n",
       "online_security_Yes                             1\n",
       "online_backup_No internet service               0\n",
       "online_backup_Yes                               1\n",
       "device_protection_No internet service           0\n",
       "device_protection_Yes                           0\n",
       "tech_support_No internet service                0\n",
       "tech_support_Yes                                0\n",
       "streaming_tv_No internet service                0\n",
       "streaming_tv_Yes                                0\n",
       "streaming_movies_No internet service            0\n",
       "streaming_movies_Yes                            1\n",
       "paperless_billing_Yes                           0\n",
       "churn_Yes                                       0\n",
       "contract_type_One year                          1\n",
       "contract_type_Two year                          0\n",
       "internet_service_type_Fiber optic               1\n",
       "payment_type_Credit card (automatic)            1\n",
       "payment_type_Electronic check                   0\n",
       "payment_type_Mailed check                       0"
      ]
     },
     "execution_count": 40,
     "metadata": {},
     "output_type": "execute_result"
    }
   ],
   "source": [
    "tlco_train_encoded.head(1).T"
   ]
  },
  {
   "cell_type": "code",
   "execution_count": null,
   "id": "16cfbe54-558d-49f6-870b-954ef6ce67f8",
   "metadata": {},
   "outputs": [],
   "source": []
  }
 ],
 "metadata": {
  "kernelspec": {
   "display_name": "Python 3 (ipykernel)",
   "language": "python",
   "name": "python3"
  },
  "language_info": {
   "codemirror_mode": {
    "name": "ipython",
    "version": 3
   },
   "file_extension": ".py",
   "mimetype": "text/x-python",
   "name": "python",
   "nbconvert_exporter": "python",
   "pygments_lexer": "ipython3",
   "version": "3.11.5"
  }
 },
 "nbformat": 4,
 "nbformat_minor": 5
}
